{
 "cells": [
  {
   "cell_type": "code",
   "execution_count": 1,
   "id": "cd787aaa",
   "metadata": {},
   "outputs": [],
   "source": [
    "import numpy as np"
   ]
  },
  {
   "cell_type": "code",
   "execution_count": 2,
   "id": "05addc9a",
   "metadata": {},
   "outputs": [
    {
     "ename": "TypeError",
     "evalue": "array() takes from 1 to 2 positional arguments but 4 were given",
     "output_type": "error",
     "traceback": [
      "\u001b[1;31m---------------------------------------------------------------------------\u001b[0m",
      "\u001b[1;31mTypeError\u001b[0m                                 Traceback (most recent call last)",
      "Cell \u001b[1;32mIn[2], line 1\u001b[0m\n\u001b[1;32m----> 1\u001b[0m a\u001b[38;5;241m=\u001b[39mnp\u001b[38;5;241m.\u001b[39marray(\u001b[38;5;241m1\u001b[39m,\u001b[38;5;241m2\u001b[39m,\u001b[38;5;241m3\u001b[39m,\u001b[38;5;241m4\u001b[39m)\n",
      "\u001b[1;31mTypeError\u001b[0m: array() takes from 1 to 2 positional arguments but 4 were given"
     ]
    }
   ],
   "source": [
    "a=np.array(1,2,3,4)"
   ]
  },
  {
   "cell_type": "code",
   "execution_count": 5,
   "id": "bb916d7d",
   "metadata": {},
   "outputs": [],
   "source": [
    "a=np.array([1,2,3,4]) #give list or tuple like :: a=np.array((1,2,3,4))"
   ]
  },
  {
   "cell_type": "code",
   "execution_count": 4,
   "id": "68ab099e",
   "metadata": {},
   "outputs": [
    {
     "data": {
      "text/plain": [
       "array([1, 2, 3, 4])"
      ]
     },
     "execution_count": 4,
     "metadata": {},
     "output_type": "execute_result"
    }
   ],
   "source": [
    "a"
   ]
  },
  {
   "cell_type": "code",
   "execution_count": 6,
   "id": "c527c3ed",
   "metadata": {},
   "outputs": [],
   "source": [
    "b=np.array(50)  #one dim array"
   ]
  },
  {
   "cell_type": "code",
   "execution_count": 7,
   "id": "1492a12c",
   "metadata": {},
   "outputs": [
    {
     "data": {
      "text/plain": [
       "array(50)"
      ]
     },
     "execution_count": 7,
     "metadata": {},
     "output_type": "execute_result"
    }
   ],
   "source": [
    "b"
   ]
  },
  {
   "cell_type": "code",
   "execution_count": 10,
   "id": "e7ec3cd0",
   "metadata": {},
   "outputs": [],
   "source": [
    "c=np.array([[1,2,3],[4,5,6]])  #for a 2d array give 2 lists/tuples in a single list/tuple"
   ]
  },
  {
   "cell_type": "code",
   "execution_count": 11,
   "id": "9789b30f",
   "metadata": {},
   "outputs": [
    {
     "data": {
      "text/plain": [
       "array([[1, 2, 3],\n",
       "       [4, 5, 6]])"
      ]
     },
     "execution_count": 11,
     "metadata": {},
     "output_type": "execute_result"
    }
   ],
   "source": [
    "c"
   ]
  },
  {
   "cell_type": "code",
   "execution_count": 12,
   "id": "f59cd661",
   "metadata": {},
   "outputs": [],
   "source": [
    "d=np.array([[[1,2,3],[4,5,6]],[[7,8,9],[9,8,7]]])  # for a 3d array "
   ]
  },
  {
   "cell_type": "code",
   "execution_count": 13,
   "id": "e061ea8f",
   "metadata": {},
   "outputs": [
    {
     "data": {
      "text/plain": [
       "array([[[1, 2, 3],\n",
       "        [4, 5, 6]],\n",
       "\n",
       "       [[7, 8, 9],\n",
       "        [9, 8, 7]]])"
      ]
     },
     "execution_count": 13,
     "metadata": {},
     "output_type": "execute_result"
    }
   ],
   "source": [
    "d"
   ]
  },
  {
   "cell_type": "code",
   "execution_count": 19,
   "id": "fdf1d145",
   "metadata": {},
   "outputs": [
    {
     "name": "stdout",
     "output_type": "stream",
     "text": [
      "a dimension is :1\n",
      "b dimension is :0\n",
      "c dimension is :2\n",
      "d dimension is :3\n"
     ]
    }
   ],
   "source": [
    "print(\"a dimension is :\"+str(a.ndim))  # ndim gives the dimension of array \n",
    "\n",
    "print(\"b dimension is :\"+str(b.ndim))\n",
    "print(\"c dimension is :\"+str(c.ndim))\n",
    "print(\"d dimension is :\"+str(d.ndim))"
   ]
  },
  {
   "cell_type": "code",
   "execution_count": 20,
   "id": "10745107",
   "metadata": {},
   "outputs": [
    {
     "data": {
      "text/plain": [
       "numpy.ndarray"
      ]
     },
     "execution_count": 20,
     "metadata": {},
     "output_type": "execute_result"
    }
   ],
   "source": [
    "type(a)            #nd array is tensor "
   ]
  },
  {
   "cell_type": "code",
   "execution_count": 21,
   "id": "a95d7012",
   "metadata": {},
   "outputs": [
    {
     "data": {
      "text/plain": [
       "numpy.ndarray"
      ]
     },
     "execution_count": 21,
     "metadata": {},
     "output_type": "execute_result"
    }
   ],
   "source": [
    "type(b)"
   ]
  },
  {
   "cell_type": "code",
   "execution_count": 22,
   "id": "8d804b73",
   "metadata": {},
   "outputs": [],
   "source": [
    "l=[1,2,3,4]"
   ]
  },
  {
   "cell_type": "code",
   "execution_count": 23,
   "id": "feae0446",
   "metadata": {},
   "outputs": [
    {
     "data": {
      "text/plain": [
       "[1, 2, 3, 4]"
      ]
     },
     "execution_count": 23,
     "metadata": {},
     "output_type": "execute_result"
    }
   ],
   "source": [
    "l"
   ]
  },
  {
   "cell_type": "code",
   "execution_count": 24,
   "id": "acceb250",
   "metadata": {},
   "outputs": [
    {
     "data": {
      "text/plain": [
       "[1, 2, 3, 4]"
      ]
     },
     "execution_count": 24,
     "metadata": {},
     "output_type": "execute_result"
    }
   ],
   "source": [
    "l"
   ]
  },
  {
   "cell_type": "code",
   "execution_count": 25,
   "id": "f3fdec38",
   "metadata": {},
   "outputs": [],
   "source": [
    "res=np.asarray(l,dtype='float',order='C')  \n",
    "#asarray(a, dtype=None, order=None('C' for row major 'F' for colum major), *, like=None)"
   ]
  },
  {
   "cell_type": "code",
   "execution_count": 26,
   "id": "5d92ec19",
   "metadata": {},
   "outputs": [
    {
     "data": {
      "text/plain": [
       "array([1., 2., 3., 4.])"
      ]
     },
     "execution_count": 26,
     "metadata": {},
     "output_type": "execute_result"
    }
   ],
   "source": [
    "res"
   ]
  },
  {
   "cell_type": "code",
   "execution_count": 27,
   "id": "b1b57a96",
   "metadata": {},
   "outputs": [],
   "source": [
    "res1=np.asarray(c,dtype='float',order='F')"
   ]
  },
  {
   "cell_type": "code",
   "execution_count": 28,
   "id": "56d59b23",
   "metadata": {},
   "outputs": [
    {
     "data": {
      "text/plain": [
       "array([[1., 2., 3.],\n",
       "       [4., 5., 6.]])"
      ]
     },
     "execution_count": 28,
     "metadata": {},
     "output_type": "execute_result"
    }
   ],
   "source": [
    "res1"
   ]
  },
  {
   "cell_type": "code",
   "execution_count": 29,
   "id": "10e7e977",
   "metadata": {},
   "outputs": [],
   "source": [
    "res1=np.asarray(c,dtype='int',order='F')"
   ]
  },
  {
   "cell_type": "code",
   "execution_count": 30,
   "id": "6943a6bb",
   "metadata": {},
   "outputs": [
    {
     "data": {
      "text/plain": [
       "array([[1, 2, 3],\n",
       "       [4, 5, 6]])"
      ]
     },
     "execution_count": 30,
     "metadata": {},
     "output_type": "execute_result"
    }
   ],
   "source": [
    "res1"
   ]
  },
  {
   "cell_type": "code",
   "execution_count": 32,
   "id": "011c2b52",
   "metadata": {},
   "outputs": [
    {
     "name": "stdout",
     "output_type": "stream",
     "text": [
      "1\n",
      "4\n",
      "2\n",
      "5\n",
      "3\n",
      "6\n"
     ]
    }
   ],
   "source": [
    "#nditer is used for printing the array in one dimension\n",
    "# also we can check whether they are in row major or column major \n",
    "for i in np.nditer(res1):\n",
    "    print(i)"
   ]
  },
  {
   "cell_type": "code",
   "execution_count": 33,
   "id": "728a23ec",
   "metadata": {},
   "outputs": [],
   "source": [
    "res2=np.asarray(c,dtype='int',order='C')"
   ]
  },
  {
   "cell_type": "code",
   "execution_count": 34,
   "id": "1eec0c19",
   "metadata": {},
   "outputs": [
    {
     "data": {
      "text/plain": [
       "array([[1, 2, 3],\n",
       "       [4, 5, 6]])"
      ]
     },
     "execution_count": 34,
     "metadata": {},
     "output_type": "execute_result"
    }
   ],
   "source": [
    "res2"
   ]
  },
  {
   "cell_type": "code",
   "execution_count": 35,
   "id": "7e89cac6",
   "metadata": {},
   "outputs": [
    {
     "name": "stdout",
     "output_type": "stream",
     "text": [
      "1\n",
      "2\n",
      "3\n",
      "4\n",
      "5\n",
      "6\n"
     ]
    }
   ],
   "source": [
    "for i in np.nditer(res2):\n",
    "    print(i)"
   ]
  },
  {
   "cell_type": "code",
   "execution_count": 36,
   "id": "1d0fcac4",
   "metadata": {},
   "outputs": [],
   "source": [
    "#frombuffer "
   ]
  },
  {
   "cell_type": "code",
   "execution_count": 37,
   "id": "faf4c932",
   "metadata": {},
   "outputs": [],
   "source": [
    "#s= 'Welcome'      => this is a string \n",
    "#s=b'welcome'      => this is not a string it is considered as byte \n",
    "s=b'hello all this is golu'"
   ]
  },
  {
   "cell_type": "code",
   "execution_count": 38,
   "id": "7f207bc4",
   "metadata": {},
   "outputs": [
    {
     "data": {
      "text/plain": [
       "b'hello all this is golu'"
      ]
     },
     "execution_count": 38,
     "metadata": {},
     "output_type": "execute_result"
    }
   ],
   "source": [
    "s"
   ]
  },
  {
   "cell_type": "code",
   "execution_count": 39,
   "id": "0373cae5",
   "metadata": {},
   "outputs": [
    {
     "ename": "AttributeError",
     "evalue": "'bytes' object has no attribute 'dtype'",
     "output_type": "error",
     "traceback": [
      "\u001b[1;31m---------------------------------------------------------------------------\u001b[0m",
      "\u001b[1;31mAttributeError\u001b[0m                            Traceback (most recent call last)",
      "Cell \u001b[1;32mIn[39], line 1\u001b[0m\n\u001b[1;32m----> 1\u001b[0m s\u001b[38;5;241m.\u001b[39mdtype\n",
      "\u001b[1;31mAttributeError\u001b[0m: 'bytes' object has no attribute 'dtype'"
     ]
    }
   ],
   "source": [
    "s.dtype"
   ]
  },
  {
   "cell_type": "code",
   "execution_count": 40,
   "id": "b7572675",
   "metadata": {},
   "outputs": [],
   "source": [
    "#frombuffer(buffer, dtype=float, count=-1, offset=0, *, like=None)\n",
    "#count is -1 means Consider all the bytes in the buffer \n",
    "#else mention the count value \n",
    "#offset is from where we have to start considering to change from buffer to array ,if it is 0 means from starting\n",
    "\n",
    "c1=np.frombuffer(s,dtype='S1',count=-1,offset=0)"
   ]
  },
  {
   "cell_type": "code",
   "execution_count": 41,
   "id": "246fd57f",
   "metadata": {},
   "outputs": [
    {
     "data": {
      "text/plain": [
       "array([b'h', b'e', b'l', b'l', b'o', b' ', b'a', b'l', b'l', b' ', b't',\n",
       "       b'h', b'i', b's', b' ', b'i', b's', b' ', b'g', b'o', b'l', b'u'],\n",
       "      dtype='|S1')"
      ]
     },
     "execution_count": 41,
     "metadata": {},
     "output_type": "execute_result"
    }
   ],
   "source": [
    "c1"
   ]
  },
  {
   "cell_type": "code",
   "execution_count": 42,
   "id": "7b3b35ed",
   "metadata": {},
   "outputs": [],
   "source": [
    "c1=np.frombuffer(s,dtype='S1',count=9,offset=2)"
   ]
  },
  {
   "cell_type": "code",
   "execution_count": 43,
   "id": "872f84e8",
   "metadata": {},
   "outputs": [
    {
     "data": {
      "text/plain": [
       "array([b'l', b'l', b'o', b' ', b'a', b'l', b'l', b' ', b't'], dtype='|S1')"
      ]
     },
     "execution_count": 43,
     "metadata": {},
     "output_type": "execute_result"
    }
   ],
   "source": [
    "c1"
   ]
  },
  {
   "cell_type": "code",
   "execution_count": 56,
   "id": "1dd84ea8",
   "metadata": {},
   "outputs": [],
   "source": [
    "list=[10,20,30,40,55]"
   ]
  },
  {
   "cell_type": "code",
   "execution_count": 46,
   "id": "3bddf336",
   "metadata": {},
   "outputs": [],
   "source": [
    "#fromiter  i.e, from iterables that is list or tuples \n",
    "# fromiter(iter, dtype, count=-1, *, like=None)\n",
    "d1=np.fromiter(list,dtype='float',count=4)"
   ]
  },
  {
   "cell_type": "code",
   "execution_count": 47,
   "id": "9c839971",
   "metadata": {},
   "outputs": [
    {
     "data": {
      "text/plain": [
       "array([10., 20., 30., 40.])"
      ]
     },
     "execution_count": 47,
     "metadata": {},
     "output_type": "execute_result"
    }
   ],
   "source": [
    "d1"
   ]
  },
  {
   "cell_type": "code",
   "execution_count": 57,
   "id": "20c59dfb",
   "metadata": {},
   "outputs": [
    {
     "data": {
      "text/plain": [
       "[10, 20, 30, 40, 55]"
      ]
     },
     "execution_count": 57,
     "metadata": {},
     "output_type": "execute_result"
    }
   ],
   "source": [
    "list"
   ]
  },
  {
   "cell_type": "code",
   "execution_count": 58,
   "id": "8534007f",
   "metadata": {},
   "outputs": [],
   "source": [
    "d1=np.fromiter(list,dtype='S1',count=-1)"
   ]
  },
  {
   "cell_type": "code",
   "execution_count": 59,
   "id": "4ba34d38",
   "metadata": {},
   "outputs": [
    {
     "data": {
      "text/plain": [
       "array([b'1', b'2', b'3', b'4', b'5'], dtype='|S1')"
      ]
     },
     "execution_count": 59,
     "metadata": {},
     "output_type": "execute_result"
    }
   ],
   "source": [
    "d1"
   ]
  },
  {
   "cell_type": "code",
   "execution_count": null,
   "id": "14c5ab95",
   "metadata": {},
   "outputs": [],
   "source": [
    "#arange(),linspace(),logspace() will take numerical range as input and\n",
    "#return array with values in given range and required data type.\n",
    "#start index(included),stop index(excluded)\n",
    "\n",
    "#np.arange([start,] stop[, step,], dtype=None, *, like=None)\n",
    "#Return evenly spaced values within a given interval.\n",
    "\n",
    "#arange : with the step size specified instead of the number of samples.\n",
    "#linspace : with the samples uniformly distributed in linear space."
   ]
  },
  {
   "cell_type": "code",
   "execution_count": 66,
   "id": "caf90d02",
   "metadata": {},
   "outputs": [
    {
     "data": {
      "text/plain": [
       "array([ 0,  2,  4,  6,  8, 10])"
      ]
     },
     "execution_count": 66,
     "metadata": {},
     "output_type": "execute_result"
    }
   ],
   "source": [
    "np.arange(0,12,2,dtype='int')  # this will create a list "
   ]
  },
  {
   "cell_type": "code",
   "execution_count": 64,
   "id": "0ac4a4b0",
   "metadata": {},
   "outputs": [
    {
     "name": "stdout",
     "output_type": "stream",
     "text": [
      "[ 0  2  4  6  8 10]\n"
     ]
    }
   ],
   "source": [
    "arr=np.arange(0,12,2,dtype='int')  \n",
    "print(arr)                            #this will be an array"
   ]
  },
  {
   "cell_type": "code",
   "execution_count": 70,
   "id": "c972ff76",
   "metadata": {},
   "outputs": [],
   "source": [
    "#np.linspace(start index,stop index,num=50(default),endpoint=True(stop index included),retstep=False,dtype=None,axis=0)\n",
    "#retstep is difference between numbers \n",
    "arr1=np.linspace(0,10,num=5,endpoint=True,retstep=True)"
   ]
  },
  {
   "cell_type": "code",
   "execution_count": 71,
   "id": "68da72b4",
   "metadata": {},
   "outputs": [
    {
     "name": "stdout",
     "output_type": "stream",
     "text": [
      "(array([ 0. ,  2.5,  5. ,  7.5, 10. ]), 2.5)\n"
     ]
    }
   ],
   "source": [
    "print(arr1)"
   ]
  },
  {
   "cell_type": "code",
   "execution_count": 72,
   "id": "ebf74156",
   "metadata": {},
   "outputs": [
    {
     "name": "stdout",
     "output_type": "stream",
     "text": [
      "[ 0.   2.5  5.   7.5 10. ]\n"
     ]
    }
   ],
   "source": [
    "arr2=np.linspace(0,10,num=5,endpoint=True)\n",
    "print(arr2)"
   ]
  },
  {
   "cell_type": "code",
   "execution_count": 76,
   "id": "3249b7ce",
   "metadata": {},
   "outputs": [
    {
     "name": "stdout",
     "output_type": "stream",
     "text": [
      "[ 0.          0.20408163  0.40816327  0.6122449   0.81632653  1.02040816\n",
      "  1.2244898   1.42857143  1.63265306  1.83673469  2.04081633  2.24489796\n",
      "  2.44897959  2.65306122  2.85714286  3.06122449  3.26530612  3.46938776\n",
      "  3.67346939  3.87755102  4.08163265  4.28571429  4.48979592  4.69387755\n",
      "  4.89795918  5.10204082  5.30612245  5.51020408  5.71428571  5.91836735\n",
      "  6.12244898  6.32653061  6.53061224  6.73469388  6.93877551  7.14285714\n",
      "  7.34693878  7.55102041  7.75510204  7.95918367  8.16326531  8.36734694\n",
      "  8.57142857  8.7755102   8.97959184  9.18367347  9.3877551   9.59183673\n",
      "  9.79591837 10.        ]\n"
     ]
    }
   ],
   "source": [
    "arr3=np.linspace(0,10) \n",
    "print(arr3)                    #by default 50 divisions and endpoint=true"
   ]
  },
  {
   "cell_type": "code",
   "execution_count": 77,
   "id": "fd8c783f",
   "metadata": {},
   "outputs": [
    {
     "name": "stdout",
     "output_type": "stream",
     "text": [
      "[0.  0.2 0.4 0.6 0.8 1.  1.2 1.4 1.6 1.8 2.  2.2 2.4 2.6 2.8 3.  3.2 3.4\n",
      " 3.6 3.8 4.  4.2 4.4 4.6 4.8 5.  5.2 5.4 5.6 5.8 6.  6.2 6.4 6.6 6.8 7.\n",
      " 7.2 7.4 7.6 7.8 8.  8.2 8.4 8.6 8.8 9.  9.2 9.4 9.6 9.8]\n"
     ]
    }
   ],
   "source": [
    "arr4=np.linspace(0,10,endpoint=False)\n",
    "print(arr4)  "
   ]
  },
  {
   "cell_type": "code",
   "execution_count": 78,
   "id": "3e6ad54c",
   "metadata": {},
   "outputs": [
    {
     "name": "stdout",
     "output_type": "stream",
     "text": [
      "[0 0 0 0 0 1 1 1 1 1 2 2 2 2 2 3 3 3 3 3 4 4 4 4 4 5 5 5 5 5 6 6 6 6 6 7 7\n",
      " 7 7 7 8 8 8 8 8 9 9 9 9 9]\n"
     ]
    }
   ],
   "source": [
    "arr5=np.linspace(0,10,endpoint=False,dtype='int')\n",
    "print(arr5)  "
   ]
  },
  {
   "cell_type": "code",
   "execution_count": 91,
   "id": "0750a23a",
   "metadata": {},
   "outputs": [
    {
     "name": "stdout",
     "output_type": "stream",
     "text": [
      "[  1.   4.  16.  64. 256.]\n"
     ]
    }
   ],
   "source": [
    "#np.logspace(start,stop,num=50,endpoint=True,base=10.0,dtype=None,axis=0,)\n",
    "ar1=np.logspace(0,10,5,endpoint=False,base=2)\n",
    "print(ar1)"
   ]
  },
  {
   "cell_type": "code",
   "execution_count": 92,
   "id": "bd1755a3",
   "metadata": {},
   "outputs": [
    {
     "name": "stdout",
     "output_type": "stream",
     "text": [
      "[  1.           1.14869835   1.31950791   1.51571657   1.74110113\n",
      "   2.           2.29739671   2.63901582   3.03143313   3.48220225\n",
      "   4.           4.59479342   5.27803164   6.06286627   6.96440451\n",
      "   8.           9.18958684  10.55606329  12.12573253  13.92880901\n",
      "  16.          18.37917368  21.11212657  24.25146506  27.85761803\n",
      "  32.          36.75834736  42.22425314  48.50293013  55.71523605\n",
      "  64.          73.51669472  84.44850629  97.00586026 111.4304721\n",
      " 128.         147.03338944 168.89701258 194.01172051 222.8609442\n",
      " 256.         294.06677888 337.79402516 388.02344103 445.72188841\n",
      " 512.         588.13355776 675.58805032 776.04688205 891.44377682]\n"
     ]
    }
   ],
   "source": [
    "ar2=np.logspace(0,10,endpoint=False,base=2)\n",
    "print(ar2)"
   ]
  },
  {
   "cell_type": "code",
   "execution_count": 105,
   "id": "03b8100a",
   "metadata": {},
   "outputs": [
    {
     "name": "stdout",
     "output_type": "stream",
     "text": [
      "(2, 3)\n",
      "[[1 2 3]\n",
      " [4 5 6]]\n"
     ]
    }
   ],
   "source": [
    "#shape returns tuple specifying indices(no.of rows) and no. of elements for each index. \n",
    "#np.shape(a)  Return the shape of an array.\n",
    "\n",
    "print(np.shape(c))\n",
    "print(c)"
   ]
  },
  {
   "cell_type": "code",
   "execution_count": 107,
   "id": "2bdd61a5",
   "metadata": {},
   "outputs": [
    {
     "name": "stdout",
     "output_type": "stream",
     "text": [
      "[[1 2]\n",
      " [3 4]\n",
      " [5 6]]\n"
     ]
    }
   ],
   "source": [
    "#reshape to change dim of array \n",
    "#np.reshape(a, newshape, order='C') -->Gives a new shape to an array without changing its data.\n",
    "#imp: total no.of elements should be same\n",
    "c=np.reshape(c,(3,2))\n",
    "print(c)"
   ]
  },
  {
   "cell_type": "code",
   "execution_count": 93,
   "id": "8d908df0",
   "metadata": {},
   "outputs": [
    {
     "data": {
      "text/plain": [
       "array([[0, 0, 0],\n",
       "       [0, 0, 0]])"
      ]
     },
     "execution_count": 93,
     "metadata": {},
     "output_type": "execute_result"
    }
   ],
   "source": [
    "#zeros(shape, dtype=float, order='C', *, like=None)\n",
    "#Return a new array of given shape and type, filled with zeros.\n",
    "np.zeros((2,3),dtype='int')"
   ]
  },
  {
   "cell_type": "code",
   "execution_count": 94,
   "id": "09e89386",
   "metadata": {},
   "outputs": [
    {
     "data": {
      "text/plain": [
       "array([[1., 1., 1.],\n",
       "       [1., 1., 1.]])"
      ]
     },
     "execution_count": 94,
     "metadata": {},
     "output_type": "execute_result"
    }
   ],
   "source": [
    "np.ones((2,3))"
   ]
  },
  {
   "cell_type": "code",
   "execution_count": 96,
   "id": "ec15eecc",
   "metadata": {},
   "outputs": [
    {
     "data": {
      "text/plain": [
       "array([[6, 6, 6],\n",
       "       [6, 6, 6]])"
      ]
     },
     "execution_count": 96,
     "metadata": {},
     "output_type": "execute_result"
    }
   ],
   "source": [
    "#np.full(shape,default value,dtype(optional))\n",
    "np.full((2,3),6,dtype=\"int\")"
   ]
  },
  {
   "cell_type": "code",
   "execution_count": 109,
   "id": "22279834",
   "metadata": {},
   "outputs": [
    {
     "data": {
      "text/plain": [
       "array([[1., 0., 0.],\n",
       "       [0., 1., 0.],\n",
       "       [0., 0., 1.]])"
      ]
     },
     "execution_count": 109,
     "metadata": {},
     "output_type": "execute_result"
    }
   ],
   "source": [
    "#takes square matrix and initialize 1 in diagonal and remaining zeros \n",
    "#np.eye(no.of rows,dtype)\n",
    "np.eye(3)"
   ]
  },
  {
   "cell_type": "code",
   "execution_count": null,
   "id": "c63e4474",
   "metadata": {},
   "outputs": [],
   "source": [
    "#accessing is easy \n",
    "#arr[index,index,..]"
   ]
  },
  {
   "cell_type": "code",
   "execution_count": 114,
   "id": "6e71872c",
   "metadata": {},
   "outputs": [
    {
     "data": {
      "text/plain": [
       "array([20, 40])"
      ]
     },
     "execution_count": 114,
     "metadata": {},
     "output_type": "execute_result"
    }
   ],
   "source": [
    "#slicing  [ start : stop(excluded) : stepsize ]\n",
    "#deafult values like [0 : length : 1]\n",
    "a1=np.array([10,20,30,40,50,60])\n",
    "a1[1:4:2]"
   ]
  },
  {
   "cell_type": "code",
   "execution_count": 117,
   "id": "ff566a3b",
   "metadata": {},
   "outputs": [
    {
     "data": {
      "text/plain": [
       "array([10, 20])"
      ]
     },
     "execution_count": 117,
     "metadata": {},
     "output_type": "execute_result"
    }
   ],
   "source": [
    "a2=np.array([[10,20,30],[40,50,60]])\n",
    "a2[0,0:2]"
   ]
  },
  {
   "cell_type": "code",
   "execution_count": 120,
   "id": "ee2be20e",
   "metadata": {},
   "outputs": [
    {
     "data": {
      "text/plain": [
       "array([[10, 20],\n",
       "       [40, 50]])"
      ]
     },
     "execution_count": 120,
     "metadata": {},
     "output_type": "execute_result"
    }
   ],
   "source": [
    "a2[0:2,0:2]"
   ]
  },
  {
   "cell_type": "code",
   "execution_count": 122,
   "id": "1f95eecc",
   "metadata": {},
   "outputs": [
    {
     "data": {
      "text/plain": [
       "50"
      ]
     },
     "execution_count": 122,
     "metadata": {},
     "output_type": "execute_result"
    }
   ],
   "source": [
    "a2[-1,-2]"
   ]
  },
  {
   "cell_type": "code",
   "execution_count": 2,
   "id": "c10236d2",
   "metadata": {},
   "outputs": [
    {
     "data": {
      "text/plain": [
       "array([[4, 6, 2],\n",
       "       [9, 2, 3]])"
      ]
     },
     "execution_count": 2,
     "metadata": {},
     "output_type": "execute_result"
    }
   ],
   "source": [
    "#axis=0 column\n",
    "#axis=1 row\n",
    "a3=np.array([[4,6,2],[9,2,3]])\n",
    "a3"
   ]
  },
  {
   "cell_type": "code",
   "execution_count": 130,
   "id": "5d585a06",
   "metadata": {},
   "outputs": [
    {
     "data": {
      "text/plain": [
       "array([[4, 2, 2],\n",
       "       [9, 6, 3]])"
      ]
     },
     "execution_count": 130,
     "metadata": {},
     "output_type": "execute_result"
    }
   ],
   "source": [
    "#np.sort(a, axis=-1, kind=None, order=None)\n",
    "#Return a sorted copy of an array.\n",
    "np.sort(a3,axis=0)\n"
   ]
  },
  {
   "cell_type": "code",
   "execution_count": 127,
   "id": "23dbd04f",
   "metadata": {},
   "outputs": [
    {
     "data": {
      "text/plain": [
       "array([[2, 4, 6],\n",
       "       [2, 3, 9]])"
      ]
     },
     "execution_count": 127,
     "metadata": {},
     "output_type": "execute_result"
    }
   ],
   "source": [
    "np.sort(a3,axis=1)"
   ]
  },
  {
   "cell_type": "code",
   "execution_count": null,
   "id": "1fc77454",
   "metadata": {},
   "outputs": [],
   "source": [
    "#              copy()                                                              view()\n",
    "#           external copy                                                reference to existing array\n",
    "#  if any one element is modified not reflect to another                  modification is reflected\n",
    "#             two arrays                                                       only one array "
   ]
  },
  {
   "cell_type": "code",
   "execution_count": 11,
   "id": "a515daf2",
   "metadata": {},
   "outputs": [
    {
     "data": {
      "text/plain": [
       "array([[ True,  True,  True],\n",
       "       [ True, False,  True]])"
      ]
     },
     "execution_count": 11,
     "metadata": {},
     "output_type": "execute_result"
    }
   ],
   "source": [
    "#a.astype(dtype, order='K', casting='unsafe', subok=True, copy=True)\n",
    "#Copy of the array, cast to a specified type.\n",
    "a3[1,1]=0\n",
    "b3=a3.astype('bool')\n",
    "b3\n"
   ]
  },
  {
   "cell_type": "code",
   "execution_count": 12,
   "id": "6f6149a9",
   "metadata": {},
   "outputs": [],
   "source": [
    "#joining two arrays  : concatenate(name of ar1,ar2 )(join 2 arrays w.r.t given axis)\n",
    "# stack(ar1,ar2)\n",
    "#vstack(ar1,ar2)\n",
    "#hstack(ar1,ar2)\n",
    "#dstack(ar1,ar2)"
   ]
  },
  {
   "cell_type": "code",
   "execution_count": 14,
   "id": "5ef95bbe",
   "metadata": {},
   "outputs": [
    {
     "data": {
      "text/plain": [
       "array([[0, 1, 2],\n",
       "       [3, 4, 5]])"
      ]
     },
     "execution_count": 14,
     "metadata": {},
     "output_type": "execute_result"
    }
   ],
   "source": [
    "ar1=np.arange(6).reshape(2,3)\n",
    "ar1"
   ]
  },
  {
   "cell_type": "code",
   "execution_count": 15,
   "id": "b9afe911",
   "metadata": {},
   "outputs": [
    {
     "data": {
      "text/plain": [
       "array([[ 7,  8,  9],\n",
       "       [10, 11, 12]])"
      ]
     },
     "execution_count": 15,
     "metadata": {},
     "output_type": "execute_result"
    }
   ],
   "source": [
    "ar2=np.arange(7,13).reshape(2,3)\n",
    "ar2"
   ]
  },
  {
   "cell_type": "code",
   "execution_count": 16,
   "id": "0e5924c0",
   "metadata": {},
   "outputs": [
    {
     "data": {
      "text/plain": [
       "array([[ 0,  1,  2,  7,  8,  9],\n",
       "       [ 3,  4,  5, 10, 11, 12]])"
      ]
     },
     "execution_count": 16,
     "metadata": {},
     "output_type": "execute_result"
    }
   ],
   "source": [
    "np.concatenate((ar1,ar2),axis=1)"
   ]
  },
  {
   "cell_type": "code",
   "execution_count": 17,
   "id": "09526922",
   "metadata": {},
   "outputs": [
    {
     "data": {
      "text/plain": [
       "array([[ 0,  1,  2],\n",
       "       [ 3,  4,  5],\n",
       "       [ 7,  8,  9],\n",
       "       [10, 11, 12]])"
      ]
     },
     "execution_count": 17,
     "metadata": {},
     "output_type": "execute_result"
    }
   ],
   "source": [
    "np.concatenate((ar1,ar2),axis=0)"
   ]
  },
  {
   "cell_type": "code",
   "execution_count": 19,
   "id": "d299243e",
   "metadata": {},
   "outputs": [
    {
     "data": {
      "text/plain": [
       "array([[[ 0,  1,  2],\n",
       "        [ 3,  4,  5]],\n",
       "\n",
       "       [[ 7,  8,  9],\n",
       "        [10, 11, 12]]])"
      ]
     },
     "execution_count": 19,
     "metadata": {},
     "output_type": "execute_result"
    }
   ],
   "source": [
    "np.stack((ar1,ar2))"
   ]
  },
  {
   "cell_type": "code",
   "execution_count": 21,
   "id": "11b01979",
   "metadata": {},
   "outputs": [
    {
     "data": {
      "text/plain": [
       "array([[[ 0,  1,  2],\n",
       "        [ 7,  8,  9]],\n",
       "\n",
       "       [[ 3,  4,  5],\n",
       "        [10, 11, 12]]])"
      ]
     },
     "execution_count": 21,
     "metadata": {},
     "output_type": "execute_result"
    }
   ],
   "source": [
    "np.stack((ar1,ar2),axis=1)"
   ]
  },
  {
   "cell_type": "code",
   "execution_count": 22,
   "id": "9981077b",
   "metadata": {},
   "outputs": [
    {
     "data": {
      "text/plain": [
       "array([[ 0,  1,  2],\n",
       "       [ 3,  4,  5],\n",
       "       [ 7,  8,  9],\n",
       "       [10, 11, 12]])"
      ]
     },
     "execution_count": 22,
     "metadata": {},
     "output_type": "execute_result"
    }
   ],
   "source": [
    "np.vstack((ar1,ar2))"
   ]
  },
  {
   "cell_type": "code",
   "execution_count": 24,
   "id": "6bbb61b0",
   "metadata": {},
   "outputs": [
    {
     "data": {
      "text/plain": [
       "array([[ 0,  1,  2,  7,  8,  9],\n",
       "       [ 3,  4,  5, 10, 11, 12]])"
      ]
     },
     "execution_count": 24,
     "metadata": {},
     "output_type": "execute_result"
    }
   ],
   "source": [
    "np.hstack((ar1,ar2))"
   ]
  },
  {
   "cell_type": "code",
   "execution_count": 25,
   "id": "ee938437",
   "metadata": {},
   "outputs": [
    {
     "data": {
      "text/plain": [
       "array([[[ 0,  7],\n",
       "        [ 1,  8],\n",
       "        [ 2,  9]],\n",
       "\n",
       "       [[ 3, 10],\n",
       "        [ 4, 11],\n",
       "        [ 5, 12]]])"
      ]
     },
     "execution_count": 25,
     "metadata": {},
     "output_type": "execute_result"
    }
   ],
   "source": [
    "np.dstack((ar1,ar2))"
   ]
  },
  {
   "cell_type": "code",
   "execution_count": 26,
   "id": "f5331032",
   "metadata": {},
   "outputs": [
    {
     "data": {
      "text/plain": [
       "array([ 1,  2,  3,  4,  5,  6,  7,  8,  9, 10])"
      ]
     },
     "execution_count": 26,
     "metadata": {},
     "output_type": "execute_result"
    }
   ],
   "source": [
    "ar3=np.arange(1,11)\n",
    "ar3"
   ]
  },
  {
   "cell_type": "code",
   "execution_count": 27,
   "id": "78a2c07f",
   "metadata": {},
   "outputs": [
    {
     "data": {
      "text/plain": [
       "[array([1, 2, 3, 4, 5]), array([ 6,  7,  8,  9, 10])]"
      ]
     },
     "execution_count": 27,
     "metadata": {},
     "output_type": "execute_result"
    }
   ],
   "source": [
    "#np.split(ary, indices_or_sections, axis=0)\n",
    "#Split an array into multiple sub-arrays as views into `ary`.\n",
    "np.split(ar3,2)          #works only in case of equal divisions "
   ]
  },
  {
   "cell_type": "code",
   "execution_count": 28,
   "id": "0260910a",
   "metadata": {},
   "outputs": [
    {
     "ename": "ValueError",
     "evalue": "array split does not result in an equal division",
     "output_type": "error",
     "traceback": [
      "\u001b[1;31m---------------------------------------------------------------------------\u001b[0m",
      "\u001b[1;31mValueError\u001b[0m                                Traceback (most recent call last)",
      "Cell \u001b[1;32mIn[28], line 1\u001b[0m\n\u001b[1;32m----> 1\u001b[0m np\u001b[38;5;241m.\u001b[39msplit(ar3,\u001b[38;5;241m3\u001b[39m)\n",
      "File \u001b[1;32m<__array_function__ internals>:200\u001b[0m, in \u001b[0;36msplit\u001b[1;34m(*args, **kwargs)\u001b[0m\n",
      "File \u001b[1;32m~\\anaconda3\\Lib\\site-packages\\numpy\\lib\\shape_base.py:872\u001b[0m, in \u001b[0;36msplit\u001b[1;34m(ary, indices_or_sections, axis)\u001b[0m\n\u001b[0;32m    870\u001b[0m     N \u001b[38;5;241m=\u001b[39m ary\u001b[38;5;241m.\u001b[39mshape[axis]\n\u001b[0;32m    871\u001b[0m     \u001b[38;5;28;01mif\u001b[39;00m N \u001b[38;5;241m%\u001b[39m sections:\n\u001b[1;32m--> 872\u001b[0m         \u001b[38;5;28;01mraise\u001b[39;00m \u001b[38;5;167;01mValueError\u001b[39;00m(\n\u001b[0;32m    873\u001b[0m             \u001b[38;5;124m'\u001b[39m\u001b[38;5;124marray split does not result in an equal division\u001b[39m\u001b[38;5;124m'\u001b[39m) \u001b[38;5;28;01mfrom\u001b[39;00m \u001b[38;5;28;01mNone\u001b[39;00m\n\u001b[0;32m    874\u001b[0m \u001b[38;5;28;01mreturn\u001b[39;00m array_split(ary, indices_or_sections, axis)\n",
      "\u001b[1;31mValueError\u001b[0m: array split does not result in an equal division"
     ]
    }
   ],
   "source": [
    "np.split(ar3,3)"
   ]
  },
  {
   "cell_type": "code",
   "execution_count": 32,
   "id": "bac82e4c",
   "metadata": {},
   "outputs": [
    {
     "data": {
      "text/plain": [
       "[array([1, 2, 3, 4, 5]), array([ 6,  7,  8,  9, 10])]"
      ]
     },
     "execution_count": 32,
     "metadata": {},
     "output_type": "execute_result"
    }
   ],
   "source": [
    "#np.array_split(ary, indices_or_sections, axis=0)\n",
    "#Split an array into multiple sub-arrays.\n",
    "np.array_split(ar3,2) \n",
    "#adjust the elements from last part of array"
   ]
  },
  {
   "cell_type": "code",
   "execution_count": 31,
   "id": "f14b593f",
   "metadata": {},
   "outputs": [
    {
     "data": {
      "text/plain": [
       "[array([1, 2, 3]), array([4, 5, 6]), array([7, 8]), array([ 9, 10])]"
      ]
     },
     "execution_count": 31,
     "metadata": {},
     "output_type": "execute_result"
    }
   ],
   "source": [
    "np.array_split(ar3,4)"
   ]
  },
  {
   "cell_type": "code",
   "execution_count": 33,
   "id": "33b98438",
   "metadata": {},
   "outputs": [
    {
     "data": {
      "text/plain": [
       "array([ 1,  2,  3,  4,  5,  6,  7,  8,  9, 10])"
      ]
     },
     "execution_count": 33,
     "metadata": {},
     "output_type": "execute_result"
    }
   ],
   "source": [
    "ar3"
   ]
  },
  {
   "cell_type": "code",
   "execution_count": 37,
   "id": "55b12f59",
   "metadata": {},
   "outputs": [
    {
     "data": {
      "text/plain": [
       "[array([1, 2, 3, 4, 5]), array([ 6,  7,  8,  9, 10])]"
      ]
     },
     "execution_count": 37,
     "metadata": {},
     "output_type": "execute_result"
    }
   ],
   "source": [
    "np.hsplit(ar3,2)"
   ]
  },
  {
   "cell_type": "code",
   "execution_count": 38,
   "id": "235789e2",
   "metadata": {},
   "outputs": [
    {
     "ename": "ValueError",
     "evalue": "vsplit only works on arrays of 2 or more dimensions",
     "output_type": "error",
     "traceback": [
      "\u001b[1;31m---------------------------------------------------------------------------\u001b[0m",
      "\u001b[1;31mValueError\u001b[0m                                Traceback (most recent call last)",
      "Cell \u001b[1;32mIn[38], line 1\u001b[0m\n\u001b[1;32m----> 1\u001b[0m np\u001b[38;5;241m.\u001b[39mvsplit(ar3,\u001b[38;5;241m2\u001b[39m)\n",
      "File \u001b[1;32m<__array_function__ internals>:200\u001b[0m, in \u001b[0;36mvsplit\u001b[1;34m(*args, **kwargs)\u001b[0m\n",
      "File \u001b[1;32m~\\anaconda3\\Lib\\site-packages\\numpy\\lib\\shape_base.py:996\u001b[0m, in \u001b[0;36mvsplit\u001b[1;34m(ary, indices_or_sections)\u001b[0m\n\u001b[0;32m    953\u001b[0m \u001b[38;5;250m\u001b[39m\u001b[38;5;124;03m\"\"\"\u001b[39;00m\n\u001b[0;32m    954\u001b[0m \u001b[38;5;124;03mSplit an array into multiple sub-arrays vertically (row-wise).\u001b[39;00m\n\u001b[0;32m    955\u001b[0m \n\u001b[1;32m   (...)\u001b[0m\n\u001b[0;32m    993\u001b[0m \n\u001b[0;32m    994\u001b[0m \u001b[38;5;124;03m\"\"\"\u001b[39;00m\n\u001b[0;32m    995\u001b[0m \u001b[38;5;28;01mif\u001b[39;00m _nx\u001b[38;5;241m.\u001b[39mndim(ary) \u001b[38;5;241m<\u001b[39m \u001b[38;5;241m2\u001b[39m:\n\u001b[1;32m--> 996\u001b[0m     \u001b[38;5;28;01mraise\u001b[39;00m \u001b[38;5;167;01mValueError\u001b[39;00m(\u001b[38;5;124m'\u001b[39m\u001b[38;5;124mvsplit only works on arrays of 2 or more dimensions\u001b[39m\u001b[38;5;124m'\u001b[39m)\n\u001b[0;32m    997\u001b[0m \u001b[38;5;28;01mreturn\u001b[39;00m split(ary, indices_or_sections, \u001b[38;5;241m0\u001b[39m)\n",
      "\u001b[1;31mValueError\u001b[0m: vsplit only works on arrays of 2 or more dimensions"
     ]
    }
   ],
   "source": [
    "np.vsplit(ar3,2)   \n",
    "#ValueError('vsplit only works on arrays of 2 or more dimensions')"
   ]
  },
  {
   "cell_type": "code",
   "execution_count": 41,
   "id": "bcd842d9",
   "metadata": {},
   "outputs": [
    {
     "data": {
      "text/plain": [
       "array([[1, 2, 3],\n",
       "       [4, 5, 6]])"
      ]
     },
     "execution_count": 41,
     "metadata": {},
     "output_type": "execute_result"
    }
   ],
   "source": [
    "c=np.array([[1,2,3],[4,5,6]]) \n",
    "c"
   ]
  },
  {
   "cell_type": "code",
   "execution_count": 45,
   "id": "1e357879",
   "metadata": {},
   "outputs": [
    {
     "data": {
      "text/plain": [
       "[array([[1, 2, 3]]), array([[4, 5, 6]])]"
      ]
     },
     "execution_count": 45,
     "metadata": {},
     "output_type": "execute_result"
    }
   ],
   "source": [
    " np.vsplit(c,2)"
   ]
  },
  {
   "cell_type": "code",
   "execution_count": 47,
   "id": "5e4e7a0d",
   "metadata": {},
   "outputs": [
    {
     "data": {
      "text/plain": [
       "array([10, 20, 30, 40, 50, 60, 70, 80, 90])"
      ]
     },
     "execution_count": 47,
     "metadata": {},
     "output_type": "execute_result"
    }
   ],
   "source": [
    "#searching in numpy\n",
    "#where() => returns index of given value\n",
    "#where(condition, [x, y], /)\n",
    "#Return elements chosen from `x` or `y` depending on `condition`\n",
    "n=np.arange(10,100,10)\n",
    "n"
   ]
  },
  {
   "cell_type": "code",
   "execution_count": 51,
   "id": "74a05fb4",
   "metadata": {},
   "outputs": [
    {
     "data": {
      "text/plain": [
       "(array([1, 3, 5, 7], dtype=int64),)"
      ]
     },
     "execution_count": 51,
     "metadata": {},
     "output_type": "execute_result"
    }
   ],
   "source": [
    "np.where(n%20==0)"
   ]
  },
  {
   "cell_type": "code",
   "execution_count": 53,
   "id": "8cc0748e",
   "metadata": {},
   "outputs": [
    {
     "data": {
      "text/plain": [
       "(array([6], dtype=int64),)"
      ]
     },
     "execution_count": 53,
     "metadata": {},
     "output_type": "execute_result"
    }
   ],
   "source": [
    "np.where(n==70)"
   ]
  },
  {
   "cell_type": "code",
   "execution_count": 54,
   "id": "fe4817d1",
   "metadata": {},
   "outputs": [
    {
     "data": {
      "text/plain": [
       "array([5, 4, 6, 5, 3, 5, 8, 5, 2, 5])"
      ]
     },
     "execution_count": 54,
     "metadata": {},
     "output_type": "execute_result"
    }
   ],
   "source": [
    "n1=np.array([5,4,6,5,3,5,8,5,2,5])\n",
    "n1"
   ]
  },
  {
   "cell_type": "code",
   "execution_count": 55,
   "id": "3bd6ea35",
   "metadata": {},
   "outputs": [
    {
     "data": {
      "text/plain": [
       "(array([0, 3, 5, 7, 9], dtype=int64),)"
      ]
     },
     "execution_count": 55,
     "metadata": {},
     "output_type": "execute_result"
    }
   ],
   "source": [
    "np.where(n1==5)"
   ]
  },
  {
   "cell_type": "code",
   "execution_count": 60,
   "id": "0fa78371",
   "metadata": {},
   "outputs": [
    {
     "name": "stdout",
     "output_type": "stream",
     "text": [
      "[10 20 30 40 50 60 70 80 90]\n"
     ]
    },
    {
     "data": {
      "text/plain": [
       "4"
      ]
     },
     "execution_count": 60,
     "metadata": {},
     "output_type": "execute_result"
    }
   ],
   "source": [
    "#np.searchsorted(a, v, side='left', sorter=None)\n",
    "#Find indices where elements should be inserted to maintain order.\n",
    "#array should be in sorted order ,it will perform binary operation\n",
    "print(n)\n",
    "np.searchsorted(n,45)"
   ]
  },
  {
   "cell_type": "code",
   "execution_count": 61,
   "id": "ab63efac",
   "metadata": {},
   "outputs": [
    {
     "data": {
      "text/plain": [
       "array([3, 4, 1], dtype=int64)"
      ]
     },
     "execution_count": 61,
     "metadata": {},
     "output_type": "execute_result"
    }
   ],
   "source": [
    "np.searchsorted(n,[32,45,12])  #for multiple elements"
   ]
  },
  {
   "cell_type": "code",
   "execution_count": 66,
   "id": "8d6b5936",
   "metadata": {},
   "outputs": [
    {
     "name": "stdout",
     "output_type": "stream",
     "text": [
      "[5 4 6 5 3 5 8 5 2 5]\n"
     ]
    },
    {
     "data": {
      "text/plain": [
       "array([2, 3, 4, 5, 5, 5, 5, 5, 6, 8])"
      ]
     },
     "execution_count": 66,
     "metadata": {},
     "output_type": "execute_result"
    }
   ],
   "source": [
    "print(n1)\n",
    "np.sort(n1)"
   ]
  },
  {
   "cell_type": "code",
   "execution_count": 68,
   "id": "789f58aa",
   "metadata": {},
   "outputs": [
    {
     "data": {
      "text/plain": [
       "array([[20, 10, 30],\n",
       "       [50, 40, 90]])"
      ]
     },
     "execution_count": 68,
     "metadata": {},
     "output_type": "execute_result"
    }
   ],
   "source": [
    "n2=np.array([[50,40,30],[20,10,90]])\n",
    "np.sort(n2,axis=0)"
   ]
  },
  {
   "cell_type": "code",
   "execution_count": 69,
   "id": "7b7dd2e9",
   "metadata": {},
   "outputs": [
    {
     "data": {
      "text/plain": [
       "array([[30, 40, 50],\n",
       "       [10, 20, 90]])"
      ]
     },
     "execution_count": 69,
     "metadata": {},
     "output_type": "execute_result"
    }
   ],
   "source": [
    "np.sort(n2,axis=1)"
   ]
  },
  {
   "cell_type": "code",
   "execution_count": 70,
   "id": "55d84665",
   "metadata": {},
   "outputs": [
    {
     "data": {
      "text/plain": [
       "array([[30, 40, 50],\n",
       "       [10, 20, 90]])"
      ]
     },
     "execution_count": 70,
     "metadata": {},
     "output_type": "execute_result"
    }
   ],
   "source": [
    "np.sort(n2,axis=-1)"
   ]
  },
  {
   "cell_type": "code",
   "execution_count": 74,
   "id": "10768829",
   "metadata": {},
   "outputs": [
    {
     "data": {
      "text/plain": [
       "array([(b'abc', 92.5), (b'def', 67.9), (b'ghi', 98.5)],\n",
       "      dtype=[('name', 'S10'), ('percent', '<f8')])"
      ]
     },
     "execution_count": 74,
     "metadata": {},
     "output_type": "execute_result"
    }
   ],
   "source": [
    "#np.sort(array, axis=-1, kind=sorting technique, order=None)\n",
    "#Return a sorted copy of an array.\n",
    "# by default it will do quick sort \n",
    "\n",
    "d1=np.dtype([('name','S10'),('percent',float)])\n",
    "darr=np.array([('abc',92.5),('def',67.9),('ghi',98.5)],dtype=d1)\n",
    "darr"
   ]
  },
  {
   "cell_type": "code",
   "execution_count": 75,
   "id": "a724f75a",
   "metadata": {},
   "outputs": [
    {
     "data": {
      "text/plain": [
       "array([(b'def', 67.9), (b'abc', 92.5), (b'ghi', 98.5)],\n",
       "      dtype=[('name', 'S10'), ('percent', '<f8')])"
      ]
     },
     "execution_count": 75,
     "metadata": {},
     "output_type": "execute_result"
    }
   ],
   "source": [
    "np.sort(darr,order='percent')"
   ]
  },
  {
   "cell_type": "code",
   "execution_count": 77,
   "id": "872b6a2d",
   "metadata": {},
   "outputs": [],
   "source": [
    "n3=np.array([[1,2,3],[4,5,6],[7,8,9]])\n",
    "n4=np.array([[1,1,1],[1,1,1],[1,1,1]])"
   ]
  },
  {
   "cell_type": "code",
   "execution_count": 78,
   "id": "7f265947",
   "metadata": {},
   "outputs": [
    {
     "data": {
      "text/plain": [
       "array([[ 2,  3,  4],\n",
       "       [ 5,  6,  7],\n",
       "       [ 8,  9, 10]])"
      ]
     },
     "execution_count": 78,
     "metadata": {},
     "output_type": "execute_result"
    }
   ],
   "source": [
    "np.add(n3,n4)"
   ]
  },
  {
   "cell_type": "code",
   "execution_count": 79,
   "id": "781a4650",
   "metadata": {},
   "outputs": [],
   "source": [
    "n5=np.array([3,4,5])"
   ]
  },
  {
   "cell_type": "code",
   "execution_count": 80,
   "id": "529cb1ef",
   "metadata": {},
   "outputs": [
    {
     "data": {
      "text/plain": [
       "array([[4, 5, 6],\n",
       "       [4, 5, 6],\n",
       "       [4, 5, 6]])"
      ]
     },
     "execution_count": 80,
     "metadata": {},
     "output_type": "execute_result"
    }
   ],
   "source": [
    "np.add(n4,n5)"
   ]
  },
  {
   "cell_type": "code",
   "execution_count": 83,
   "id": "d853bcb3",
   "metadata": {},
   "outputs": [
    {
     "data": {
      "text/plain": [
       "array([[ 4,  5,  6],\n",
       "       [ 7,  8,  9],\n",
       "       [10, 11, 12]])"
      ]
     },
     "execution_count": 83,
     "metadata": {},
     "output_type": "execute_result"
    }
   ],
   "source": [
    "np.add(n3,3)"
   ]
  },
  {
   "cell_type": "code",
   "execution_count": 81,
   "id": "efef5642",
   "metadata": {},
   "outputs": [
    {
     "data": {
      "text/plain": [
       "array([[0, 1, 2],\n",
       "       [3, 4, 5],\n",
       "       [6, 7, 8]])"
      ]
     },
     "execution_count": 81,
     "metadata": {},
     "output_type": "execute_result"
    }
   ],
   "source": [
    "np.subtract(n3,n4)"
   ]
  },
  {
   "cell_type": "code",
   "execution_count": 82,
   "id": "1b760233",
   "metadata": {},
   "outputs": [
    {
     "data": {
      "text/plain": [
       "array([[-4, -3, -2],\n",
       "       [-1,  0,  1],\n",
       "       [ 2,  3,  4]])"
      ]
     },
     "execution_count": 82,
     "metadata": {},
     "output_type": "execute_result"
    }
   ],
   "source": [
    "np.subtract(n3,5)"
   ]
  },
  {
   "cell_type": "code",
   "execution_count": 84,
   "id": "e7b2c566",
   "metadata": {},
   "outputs": [
    {
     "data": {
      "text/plain": [
       "array([[ 3,  8, 15],\n",
       "       [12, 20, 30],\n",
       "       [21, 32, 45]])"
      ]
     },
     "execution_count": 84,
     "metadata": {},
     "output_type": "execute_result"
    }
   ],
   "source": [
    "np.multiply(n3,n5)"
   ]
  },
  {
   "cell_type": "code",
   "execution_count": 85,
   "id": "f817a78e",
   "metadata": {},
   "outputs": [
    {
     "data": {
      "text/plain": [
       "array([[1., 2., 3.],\n",
       "       [4., 5., 6.],\n",
       "       [7., 8., 9.]])"
      ]
     },
     "execution_count": 85,
     "metadata": {},
     "output_type": "execute_result"
    }
   ],
   "source": [
    "np.divide(n3,n4)"
   ]
  },
  {
   "cell_type": "code",
   "execution_count": 86,
   "id": "57559e2a",
   "metadata": {},
   "outputs": [
    {
     "data": {
      "text/plain": [
       "array([[    1,    16,   243],\n",
       "       [   64,   625,  7776],\n",
       "       [  343,  4096, 59049]])"
      ]
     },
     "execution_count": 86,
     "metadata": {},
     "output_type": "execute_result"
    }
   ],
   "source": [
    "np.power(n3,n5)"
   ]
  },
  {
   "cell_type": "code",
   "execution_count": 87,
   "id": "cffecfeb",
   "metadata": {},
   "outputs": [
    {
     "data": {
      "text/plain": [
       "array([[1, 2, 3],\n",
       "       [1, 1, 1],\n",
       "       [1, 0, 4]])"
      ]
     },
     "execution_count": 87,
     "metadata": {},
     "output_type": "execute_result"
    }
   ],
   "source": [
    "np.mod(n3,n5)"
   ]
  },
  {
   "cell_type": "code",
   "execution_count": 88,
   "id": "77e9b298",
   "metadata": {},
   "outputs": [
    {
     "data": {
      "text/plain": [
       "array([[1, 0, 0],\n",
       "       [0, 0, 0],\n",
       "       [0, 0, 0]])"
      ]
     },
     "execution_count": 88,
     "metadata": {},
     "output_type": "execute_result"
    }
   ],
   "source": [
    "np.reciprocal(n3)"
   ]
  },
  {
   "cell_type": "code",
   "execution_count": 89,
   "id": "f3906ad8",
   "metadata": {},
   "outputs": [
    {
     "data": {
      "text/plain": [
       "array([2.        , 3.33333333, 1.66666667])"
      ]
     },
     "execution_count": 89,
     "metadata": {},
     "output_type": "execute_result"
    }
   ],
   "source": [
    "f=np.array([0.5,0.3,0.6])\n",
    "np.reciprocal(f)"
   ]
  },
  {
   "cell_type": "code",
   "execution_count": 91,
   "id": "685bb96c",
   "metadata": {},
   "outputs": [
    {
     "data": {
      "text/plain": [
       "array([ 5.+6.j, 10.-5.j,  9.+7.j])"
      ]
     },
     "execution_count": 91,
     "metadata": {},
     "output_type": "execute_result"
    }
   ],
   "source": [
    "complex=np.array([5+6j,10-5j,9+7j])\n",
    "complex"
   ]
  },
  {
   "cell_type": "code",
   "execution_count": 92,
   "id": "8481c902",
   "metadata": {},
   "outputs": [
    {
     "data": {
      "text/plain": [
       "array([ 5., 10.,  9.])"
      ]
     },
     "execution_count": 92,
     "metadata": {},
     "output_type": "execute_result"
    }
   ],
   "source": [
    "np.real(complex)"
   ]
  },
  {
   "cell_type": "code",
   "execution_count": 93,
   "id": "0c6cb54e",
   "metadata": {},
   "outputs": [
    {
     "data": {
      "text/plain": [
       "array([ 6., -5.,  7.])"
      ]
     },
     "execution_count": 93,
     "metadata": {},
     "output_type": "execute_result"
    }
   ],
   "source": [
    "np.imag(complex)"
   ]
  },
  {
   "cell_type": "code",
   "execution_count": 94,
   "id": "ea308b51",
   "metadata": {},
   "outputs": [
    {
     "data": {
      "text/plain": [
       "array([ 5.-6.j, 10.+5.j,  9.-7.j])"
      ]
     },
     "execution_count": 94,
     "metadata": {},
     "output_type": "execute_result"
    }
   ],
   "source": [
    "np.conjugate(complex)"
   ]
  },
  {
   "cell_type": "code",
   "execution_count": 96,
   "id": "83f6580b",
   "metadata": {},
   "outputs": [
    {
     "data": {
      "text/plain": [
       "array([[4, 9, 8],\n",
       "       [5, 7, 6],\n",
       "       [1, 2, 3]])"
      ]
     },
     "execution_count": 96,
     "metadata": {},
     "output_type": "execute_result"
    }
   ],
   "source": [
    "n6=np.array([[4,9,8],[5,7,6],[1,2,3]])\n",
    "n6"
   ]
  },
  {
   "cell_type": "code",
   "execution_count": 97,
   "id": "e7493f20",
   "metadata": {},
   "outputs": [
    {
     "data": {
      "text/plain": [
       "1"
      ]
     },
     "execution_count": 97,
     "metadata": {},
     "output_type": "execute_result"
    }
   ],
   "source": [
    "np.amin(n6)"
   ]
  },
  {
   "cell_type": "code",
   "execution_count": 98,
   "id": "62bfbfe0",
   "metadata": {},
   "outputs": [
    {
     "data": {
      "text/plain": [
       "9"
      ]
     },
     "execution_count": 98,
     "metadata": {},
     "output_type": "execute_result"
    }
   ],
   "source": [
    "np.amax(n6)"
   ]
  },
  {
   "cell_type": "code",
   "execution_count": 100,
   "id": "ff94568a",
   "metadata": {},
   "outputs": [
    {
     "data": {
      "text/plain": [
       "array([1, 2, 3])"
      ]
     },
     "execution_count": 100,
     "metadata": {},
     "output_type": "execute_result"
    }
   ],
   "source": [
    "np.amin(n6,axis=0)"
   ]
  },
  {
   "cell_type": "code",
   "execution_count": 102,
   "id": "7a166086",
   "metadata": {},
   "outputs": [
    {
     "data": {
      "text/plain": [
       "array([4, 5, 1])"
      ]
     },
     "execution_count": 102,
     "metadata": {},
     "output_type": "execute_result"
    }
   ],
   "source": [
    "np.amin(n6,axis=1)"
   ]
  },
  {
   "cell_type": "code",
   "execution_count": 103,
   "id": "21e201d8",
   "metadata": {},
   "outputs": [
    {
     "data": {
      "text/plain": [
       "array([5, 9, 8])"
      ]
     },
     "execution_count": 103,
     "metadata": {},
     "output_type": "execute_result"
    }
   ],
   "source": [
    "np.amax(n6,axis=0)"
   ]
  },
  {
   "cell_type": "code",
   "execution_count": 104,
   "id": "712e8cc1",
   "metadata": {},
   "outputs": [
    {
     "data": {
      "text/plain": [
       "array([9, 7, 3])"
      ]
     },
     "execution_count": 104,
     "metadata": {},
     "output_type": "execute_result"
    }
   ],
   "source": [
    "np.amax(n6,axis=1)"
   ]
  },
  {
   "cell_type": "code",
   "execution_count": 105,
   "id": "aee9f5ae",
   "metadata": {},
   "outputs": [
    {
     "data": {
      "text/plain": [
       "5.0"
      ]
     },
     "execution_count": 105,
     "metadata": {},
     "output_type": "execute_result"
    }
   ],
   "source": [
    "np.average(n6)"
   ]
  },
  {
   "cell_type": "code",
   "execution_count": 107,
   "id": "efbed13f",
   "metadata": {},
   "outputs": [
    {
     "data": {
      "text/plain": [
       "array([2.83333333, 4.83333333, 4.83333333])"
      ]
     },
     "execution_count": 107,
     "metadata": {},
     "output_type": "execute_result"
    }
   ],
   "source": [
    "#weighted average \n",
    "w=[1,2,3]\n",
    "np.average(n6,weights=w,axis=0)"
   ]
  },
  {
   "cell_type": "code",
   "execution_count": 108,
   "id": "7a1b5abd",
   "metadata": {},
   "outputs": [
    {
     "data": {
      "text/plain": [
       "array([7.66666667, 6.16666667, 2.33333333])"
      ]
     },
     "execution_count": 108,
     "metadata": {},
     "output_type": "execute_result"
    }
   ],
   "source": [
    "np.average(n6,weights=w,axis=1)"
   ]
  },
  {
   "cell_type": "code",
   "execution_count": 109,
   "id": "1e3b894e",
   "metadata": {},
   "outputs": [
    {
     "data": {
      "text/plain": [
       "5.0"
      ]
     },
     "execution_count": 109,
     "metadata": {},
     "output_type": "execute_result"
    }
   ],
   "source": [
    "np.median(n6)"
   ]
  },
  {
   "cell_type": "code",
   "execution_count": 110,
   "id": "f58c83f4",
   "metadata": {},
   "outputs": [
    {
     "data": {
      "text/plain": [
       "array([4., 7., 6.])"
      ]
     },
     "execution_count": 110,
     "metadata": {},
     "output_type": "execute_result"
    }
   ],
   "source": [
    "np.median(n6,axis=0)"
   ]
  },
  {
   "cell_type": "code",
   "execution_count": 111,
   "id": "6e5afb16",
   "metadata": {},
   "outputs": [
    {
     "data": {
      "text/plain": [
       "array([8., 6., 2.])"
      ]
     },
     "execution_count": 111,
     "metadata": {},
     "output_type": "execute_result"
    }
   ],
   "source": [
    "np.median(n6,axis=1)"
   ]
  },
  {
   "cell_type": "code",
   "execution_count": 112,
   "id": "761995cf",
   "metadata": {},
   "outputs": [
    {
     "data": {
      "text/plain": [
       "6.666666666666667"
      ]
     },
     "execution_count": 112,
     "metadata": {},
     "output_type": "execute_result"
    }
   ],
   "source": [
    "np.var(n6)"
   ]
  },
  {
   "cell_type": "code",
   "execution_count": 113,
   "id": "de49e71f",
   "metadata": {},
   "outputs": [
    {
     "data": {
      "text/plain": [
       "2.581988897471611"
      ]
     },
     "execution_count": 113,
     "metadata": {},
     "output_type": "execute_result"
    }
   ],
   "source": [
    "np.std(n6)"
   ]
  },
  {
   "cell_type": "code",
   "execution_count": null,
   "id": "d01b10d2",
   "metadata": {},
   "outputs": [],
   "source": []
  }
 ],
 "metadata": {
  "kernelspec": {
   "display_name": "Python 3 (ipykernel)",
   "language": "python",
   "name": "python3"
  },
  "language_info": {
   "codemirror_mode": {
    "name": "ipython",
    "version": 3
   },
   "file_extension": ".py",
   "mimetype": "text/x-python",
   "name": "python",
   "nbconvert_exporter": "python",
   "pygments_lexer": "ipython3",
   "version": "3.11.5"
  }
 },
 "nbformat": 4,
 "nbformat_minor": 5
}
